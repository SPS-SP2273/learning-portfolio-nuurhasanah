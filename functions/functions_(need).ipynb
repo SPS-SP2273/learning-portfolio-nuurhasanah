{
 "cells": [
  {
   "cell_type": "markdown",
   "id": "123456",
   "metadata": {},
   "source": [
    "<div style=\"text-align:left;font-size:2em\"><span style=\"font-weight:bolder;font-size:1.25em\">SP2273 | Learning Portfolio</span><br><br><span style=\"font-weight:bold;color:darkred\">Functions (Need)</span></div>"
   ]
  },
  {
   "cell_type": "markdown",
   "id": "2581efd7",
   "metadata": {},
   "source": [
    "## 1 User defined functions"
   ]
  },
  {
   "cell_type": "markdown",
   "id": "8ad83b78",
   "metadata": {},
   "source": [
    "### 1.1 Named functions that return"
   ]
  },
  {
   "cell_type": "code",
   "execution_count": 1,
   "id": "af93fd75",
   "metadata": {},
   "outputs": [],
   "source": [
    "def greeting(name): \n",
    "    if name == 'Batman':\n",
    "        return 'Hello Batman! So, nice to meet you!'\n",
    "    else: \n",
    "        return f'Hello {name}!'"
   ]
  },
  {
   "cell_type": "code",
   "execution_count": 3,
   "id": "b6dcaf72",
   "metadata": {},
   "outputs": [
    {
     "data": {
      "text/plain": [
       "'Hello Batman! So, nice to meet you!'"
      ]
     },
     "execution_count": 3,
     "metadata": {},
     "output_type": "execute_result"
    }
   ],
   "source": [
    "greeting('Batman')"
   ]
  },
  {
   "cell_type": "code",
   "execution_count": 4,
   "id": "61c7e626",
   "metadata": {},
   "outputs": [
    {
     "data": {
      "text/plain": [
       "'Hello Aqua Man!'"
      ]
     },
     "execution_count": 4,
     "metadata": {},
     "output_type": "execute_result"
    }
   ],
   "source": [
    "greeting('Aqua Man')"
   ]
  },
  {
   "cell_type": "code",
   "execution_count": 6,
   "id": "b03cb904",
   "metadata": {},
   "outputs": [
    {
     "name": "stdout",
     "output_type": "stream",
     "text": [
      "Hello Super Man!\n"
     ]
    }
   ],
   "source": [
    "greet = greeting(name = 'Super Man')\n",
    "print(greet)"
   ]
  },
  {
   "cell_type": "code",
   "execution_count": 7,
   "id": "89432b54",
   "metadata": {},
   "outputs": [
    {
     "name": "stdout",
     "output_type": "stream",
     "text": [
      "Hello Super Man!\n"
     ]
    }
   ],
   "source": [
    "print(greeting(name = 'Super Man'))"
   ]
  },
  {
   "cell_type": "code",
   "execution_count": 33,
   "id": "a62a3f44",
   "metadata": {},
   "outputs": [
    {
     "name": "stdout",
     "output_type": "stream",
     "text": [
      "[1 2 3 4 5]\n"
     ]
    }
   ],
   "source": [
    "import numpy as np\n",
    "\n",
    "numbers = [1, 2, 3, 4, 5]\n",
    "\n",
    "np_numbers = np.array(numbers)\n",
    "\n",
    "print(np_numbers)"
   ]
  },
  {
   "cell_type": "code",
   "execution_count": 34,
   "id": "9e2adf99",
   "metadata": {},
   "outputs": [],
   "source": [
    "def basic_stats(numbers):\n",
    "    np_numbers=np.array(numbers)\n",
    "    return np_numbers.min(), np_numbers.max(), np_numbers.mean()"
   ]
  },
  {
   "cell_type": "code",
   "execution_count": 38,
   "id": "995d8545",
   "metadata": {},
   "outputs": [
    {
     "name": "stdout",
     "output_type": "stream",
     "text": [
      "(1, 5, 3.0)\n"
     ]
    }
   ],
   "source": [
    "list_min, list_max, list_mean = basic_stats(numbers)\n",
    "\n",
    "print(basic_stats(numbers))"
   ]
  },
  {
   "cell_type": "markdown",
   "id": "834f380f",
   "metadata": {},
   "source": [
    "### 1.2 Named functions that don’t return"
   ]
  },
  {
   "cell_type": "code",
   "execution_count": 39,
   "id": "48ae33b9",
   "metadata": {},
   "outputs": [
    {
     "name": "stdout",
     "output_type": "stream",
     "text": [
      "\n"
     ]
    }
   ],
   "source": [
    "print() "
   ]
  },
  {
   "cell_type": "markdown",
   "id": "d8102e94",
   "metadata": {},
   "source": [
    "### 1.3 Anonymous functions"
   ]
  },
  {
   "cell_type": "code",
   "execution_count": 40,
   "id": "42e9778e",
   "metadata": {},
   "outputs": [],
   "source": [
    "my_short_function = lambda name: f\"Hello {name}!\""
   ]
  },
  {
   "cell_type": "code",
   "execution_count": 41,
   "id": "bd44669f",
   "metadata": {},
   "outputs": [
    {
     "data": {
      "text/plain": [
       "'Hello Super Man!'"
      ]
     },
     "execution_count": 41,
     "metadata": {},
     "output_type": "execute_result"
    }
   ],
   "source": [
    "my_short_function(name = \"Super Man\")"
   ]
  },
  {
   "cell_type": "code",
   "execution_count": 42,
   "id": "0eb88611",
   "metadata": {},
   "outputs": [],
   "source": [
    "numbers = [[9, 0, 10],\n",
    "          [8, 1, 11],\n",
    "          [7, 2, 12],\n",
    "          [6, 3, 13],\n",
    "          [5, 4, 14],\n",
    "          [4, 5, 15],\n",
    "          [3, 6, 16],\n",
    "          [2, 7, 17],\n",
    "          [1, 8, 18],\n",
    "          [0, 9, 19]]"
   ]
  },
  {
   "cell_type": "code",
   "execution_count": 45,
   "id": "0403d176",
   "metadata": {},
   "outputs": [
    {
     "data": {
      "text/plain": [
       "[[0, 9, 19],\n",
       " [1, 8, 18],\n",
       " [2, 7, 17],\n",
       " [3, 6, 16],\n",
       " [4, 5, 15],\n",
       " [5, 4, 14],\n",
       " [6, 3, 13],\n",
       " [7, 2, 12],\n",
       " [8, 1, 11],\n",
       " [9, 0, 10]]"
      ]
     },
     "execution_count": 45,
     "metadata": {},
     "output_type": "execute_result"
    }
   ],
   "source": [
    "sorted(numbers)"
   ]
  },
  {
   "cell_type": "code",
   "execution_count": 46,
   "id": "14768bc7",
   "metadata": {},
   "outputs": [
    {
     "data": {
      "text/plain": [
       "[[9, 0, 10],\n",
       " [8, 1, 11],\n",
       " [7, 2, 12],\n",
       " [6, 3, 13],\n",
       " [5, 4, 14],\n",
       " [4, 5, 15],\n",
       " [3, 6, 16],\n",
       " [2, 7, 17],\n",
       " [1, 8, 18],\n",
       " [0, 9, 19]]"
      ]
     },
     "execution_count": 46,
     "metadata": {},
     "output_type": "execute_result"
    }
   ],
   "source": [
    "sorted(numbers, key = lambda x:x[1])"
   ]
  },
  {
   "cell_type": "code",
   "execution_count": 47,
   "id": "5778da2a",
   "metadata": {},
   "outputs": [
    {
     "data": {
      "text/plain": [
       "[[9, 0, 10],\n",
       " [8, 1, 11],\n",
       " [7, 2, 12],\n",
       " [6, 3, 13],\n",
       " [5, 4, 14],\n",
       " [4, 5, 15],\n",
       " [3, 6, 16],\n",
       " [2, 7, 17],\n",
       " [1, 8, 18],\n",
       " [0, 9, 19]]"
      ]
     },
     "execution_count": 47,
     "metadata": {},
     "output_type": "execute_result"
    }
   ],
   "source": [
    "sorted(numbers, key = lambda x: sum(x))"
   ]
  },
  {
   "cell_type": "markdown",
   "id": "0255848b",
   "metadata": {},
   "source": [
    "### 1.4 Optional arguments"
   ]
  },
  {
   "cell_type": "code",
   "execution_count": 48,
   "id": "ca1df5ba",
   "metadata": {},
   "outputs": [],
   "source": [
    "def greeting(name = 'no one'): \n",
    "    if name == 'Batman':\n",
    "        return 'Hello Batman! So, nice to meet you!'\n",
    "    else: \n",
    "        return f'Hello {name}!'"
   ]
  },
  {
   "cell_type": "code",
   "execution_count": 49,
   "id": "c689f151",
   "metadata": {},
   "outputs": [
    {
     "data": {
      "text/plain": [
       "'Hello no one!'"
      ]
     },
     "execution_count": 49,
     "metadata": {},
     "output_type": "execute_result"
    }
   ],
   "source": [
    "greeting()"
   ]
  },
  {
   "cell_type": "code",
   "execution_count": 51,
   "id": "5c32c2dd",
   "metadata": {},
   "outputs": [
    {
     "name": "stdout",
     "output_type": "stream",
     "text": [
      "I am Batman!\n"
     ]
    }
   ],
   "source": [
    "print('I', 'am', 'Batman!')"
   ]
  },
  {
   "cell_type": "code",
   "execution_count": 52,
   "id": "6483e306",
   "metadata": {},
   "outputs": [
    {
     "name": "stdout",
     "output_type": "stream",
     "text": [
      "I---am---Batman\n"
     ]
    }
   ],
   "source": [
    "print('I', 'am', 'Batman', sep = '---')"
   ]
  },
  {
   "cell_type": "markdown",
   "id": "faadae3d",
   "metadata": {},
   "source": [
    "## 2 The importance of functions?"
   ]
  },
  {
   "cell_type": "markdown",
   "id": "365dbe61",
   "metadata": {},
   "source": [
    "### 2.1 An argument for functions"
   ]
  },
  {
   "cell_type": "code",
   "execution_count": null,
   "id": "2aa6db3a",
   "metadata": {},
   "outputs": [],
   "source": [
    "\n",
    "# Your code here\n"
   ]
  },
  {
   "cell_type": "markdown",
   "id": "3cf6c325",
   "metadata": {},
   "source": [
    "### 2.2 A word of caution"
   ]
  },
  {
   "cell_type": "code",
   "execution_count": null,
   "id": "dd4b8e6f",
   "metadata": {},
   "outputs": [],
   "source": [
    "\n",
    "# Your code here\n"
   ]
  },
  {
   "cell_type": "markdown",
   "id": "23cd1667",
   "metadata": {},
   "source": [
    "## Exercise 1 :  Do you know why?"
   ]
  },
  {
   "cell_type": "code",
   "execution_count": 53,
   "id": "d46a377f",
   "metadata": {},
   "outputs": [],
   "source": [
    "def greeting(name): \n",
    "    if name == 'Batman':\n",
    "        return 'Hello Batman! So, nice to meet you!'\n",
    "    return f'Hello {name}!'"
   ]
  },
  {
   "cell_type": "code",
   "execution_count": 55,
   "id": "f1dbd6de",
   "metadata": {},
   "outputs": [
    {
     "data": {
      "text/plain": [
       "'Hello Aqua Man!'"
      ]
     },
     "execution_count": 55,
     "metadata": {},
     "output_type": "execute_result"
    }
   ],
   "source": [
    "greeting('Aqua Man')"
   ]
  },
  {
   "cell_type": "code",
   "execution_count": 56,
   "id": "3e85c852",
   "metadata": {},
   "outputs": [
    {
     "data": {
      "text/plain": [
       "'Hello Batman! So, nice to meet you!'"
      ]
     },
     "execution_count": 56,
     "metadata": {},
     "output_type": "execute_result"
    }
   ],
   "source": [
    "greeting('Batman')"
   ]
  },
  {
   "cell_type": "markdown",
   "id": "0a7a1225",
   "metadata": {},
   "source": [
    "Reason: When name is not equal to 'Batman', the function will return false and jump to the next return line which is 'Hello {name}!' I fit is True, it will return the first line. "
   ]
  },
  {
   "cell_type": "markdown",
   "id": "1d1f0b01",
   "metadata": {},
   "source": [
    "## Exercise 2 :  Calculator functions"
   ]
  },
  {
   "cell_type": "code",
   "execution_count": 120,
   "id": "ffe789bb",
   "metadata": {},
   "outputs": [],
   "source": [
    "x=np.array([36, 34, 44, 76, 27])\n",
    "y=np.array([64, 66, 56, 24, 73])"
   ]
  },
  {
   "cell_type": "code",
   "execution_count": 87,
   "id": "817bb258",
   "metadata": {},
   "outputs": [
    {
     "name": "stdout",
     "output_type": "stream",
     "text": [
      "[100 100 100 100 100]\n"
     ]
    }
   ],
   "source": [
    "def add(x, y):\n",
    "    z = x + y\n",
    "    return z \n",
    "print(add(x, y))"
   ]
  },
  {
   "cell_type": "code",
   "execution_count": 90,
   "id": "4a04e4a2",
   "metadata": {},
   "outputs": [
    {
     "name": "stdout",
     "output_type": "stream",
     "text": [
      "[-28 -32 -12  52 -46]\n"
     ]
    }
   ],
   "source": [
    "def subtract(x, y):\n",
    "    z = x - y\n",
    "    return z\n",
    "print(subtract(x, y))"
   ]
  },
  {
   "cell_type": "code",
   "execution_count": 91,
   "id": "2262501b",
   "metadata": {},
   "outputs": [
    {
     "name": "stdout",
     "output_type": "stream",
     "text": [
      "[2304 2244 2464 1824 1971]\n"
     ]
    }
   ],
   "source": [
    "def multiply(x, y):\n",
    "    z = x * y\n",
    "    return z\n",
    "print(multiply(x, y))"
   ]
  },
  {
   "cell_type": "code",
   "execution_count": 130,
   "id": "5eac346c",
   "metadata": {},
   "outputs": [
    {
     "name": "stdout",
     "output_type": "stream",
     "text": [
      "[0.5625     0.51515152 0.78571429 3.16666667 0.36986301]\n"
     ]
    }
   ],
   "source": [
    "def divide(x, y): \n",
    "    y = np.array(y)\n",
    "    if not np.any(y == 0):\n",
    "        return x / y\n",
    "    return \"Cannot divide by zero!\"\n",
    "\n",
    "print(divide(x, y))"
   ]
  },
  {
   "cell_type": "markdown",
   "id": "7582d9da",
   "metadata": {},
   "source": [
    "## Exercise 3 :  max_info() with NumPy"
   ]
  },
  {
   "cell_type": "code",
   "execution_count": 122,
   "id": "1a3bb382",
   "metadata": {},
   "outputs": [],
   "source": [
    "numbers = [40, 27, 83, 44, 74, 51, 76, 77, 10, 49]"
   ]
  },
  {
   "cell_type": "code",
   "execution_count": 124,
   "id": "0567822b",
   "metadata": {},
   "outputs": [
    {
     "name": "stdout",
     "output_type": "stream",
     "text": [
      "(83, 2)\n"
     ]
    }
   ],
   "source": [
    "def max_info(numbers): \n",
    "    np_numbers = np.array(numbers)\n",
    "    return np_numbers.max(), np_numbers.argmax()\n",
    "\n",
    "print(max_info(numbers))"
   ]
  }
 ],
 "metadata": {
  "kernelspec": {
   "display_name": "Python 3 (ipykernel)",
   "language": "python",
   "name": "python3"
  },
  "language_info": {
   "codemirror_mode": {
    "name": "ipython",
    "version": 3
   },
   "file_extension": ".py",
   "mimetype": "text/x-python",
   "name": "python",
   "nbconvert_exporter": "python",
   "pygments_lexer": "ipython3",
   "version": "3.10.8"
  },
  "toc": {
   "base_numbering": 1,
   "nav_menu": {},
   "number_sections": true,
   "sideBar": true,
   "skip_h1_title": false,
   "title_cell": "Table of Contents",
   "title_sidebar": "Contents",
   "toc_cell": false,
   "toc_position": {},
   "toc_section_display": true,
   "toc_window_display": false
  },
  "vscode": {
   "interpreter": {
    "hash": "31f2aee4e71d21fbe5cf8b01ff0e069b9275f58929596ceb00d14d90e3e16cd6"
   }
  }
 },
 "nbformat": 4,
 "nbformat_minor": 5
}

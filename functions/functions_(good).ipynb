{
 "cells": [
  {
   "cell_type": "markdown",
   "id": "123456",
   "metadata": {},
   "source": [
    "<div style=\"text-align:left;font-size:2em\"><span style=\"font-weight:bolder;font-size:1.25em\">SP2273 | Learning Portfolio</span><br><br><span style=\"font-weight:bold;color:darkred\">Functions (Good)</span></div>"
   ]
  },
  {
   "cell_type": "markdown",
   "id": "25729d05",
   "metadata": {},
   "source": [
    "## 1 Check, balances and contingencies"
   ]
  },
  {
   "cell_type": "markdown",
   "id": "5b65cdb7",
   "metadata": {},
   "source": [
    "### 1.1 assert"
   ]
  },
  {
   "cell_type": "code",
   "execution_count": 2,
   "id": "cb8f47bb",
   "metadata": {},
   "outputs": [],
   "source": [
    "x = 10"
   ]
  },
  {
   "cell_type": "code",
   "execution_count": 12,
   "id": "a502b693",
   "metadata": {},
   "outputs": [],
   "source": [
    "assert x >= 0, \"x is becoming negative!\""
   ]
  },
  {
   "cell_type": "code",
   "execution_count": 4,
   "id": "e4009428",
   "metadata": {},
   "outputs": [],
   "source": [
    "y = -1"
   ]
  },
  {
   "cell_type": "code",
   "execution_count": 11,
   "id": "58ceaa9b",
   "metadata": {},
   "outputs": [
    {
     "ename": "AssertionError",
     "evalue": "x is becoming negative!",
     "output_type": "error",
     "traceback": [
      "\u001b[1;31m---------------------------------------------------------------------------\u001b[0m",
      "\u001b[1;31mAssertionError\u001b[0m                            Traceback (most recent call last)",
      "Cell \u001b[1;32mIn[11], line 1\u001b[0m\n\u001b[1;32m----> 1\u001b[0m \u001b[38;5;28;01massert\u001b[39;00m y \u001b[38;5;241m>\u001b[39m\u001b[38;5;241m=\u001b[39m \u001b[38;5;241m0\u001b[39m, \u001b[38;5;124m\"\u001b[39m\u001b[38;5;124mx is becoming negative!\u001b[39m\u001b[38;5;124m\"\u001b[39m\n",
      "\u001b[1;31mAssertionError\u001b[0m: x is becoming negative!"
     ]
    }
   ],
   "source": [
    "assert y >= 0, \"x is becoming negative!\""
   ]
  },
  {
   "cell_type": "markdown",
   "id": "cf668d67",
   "metadata": {},
   "source": [
    "### 1.2 try-except"
   ]
  },
  {
   "cell_type": "code",
   "execution_count": 14,
   "id": "c4194be5",
   "metadata": {},
   "outputs": [
    {
     "name": "stdout",
     "output_type": "stream",
     "text": [
      "Give me a number and I will calculate its square.99\n",
      "The square of 99 is 9801!\n"
     ]
    }
   ],
   "source": [
    "number = input(\"Give me a number and I will calculate its square.\")\n",
    "square = int(number) ** 2\n",
    "print(f'The square of {number} is {square}!')"
   ]
  },
  {
   "cell_type": "code",
   "execution_count": 117,
   "id": "b52d22ae",
   "metadata": {},
   "outputs": [
    {
     "name": "stdout",
     "output_type": "stream",
     "text": [
      "Oh no! I cannot square abc!\n"
     ]
    }
   ],
   "source": [
    "try: \n",
    "    number = input(\"Give me a number and I will calculate its square.\")\n",
    "    square = int(number) ** 2\n",
    "    print(f'The square of {number} is {square}!')\n",
    "except: \n",
    "    print(f\"Oh no! I cannot square {number}!\")"
   ]
  },
  {
   "cell_type": "code",
   "execution_count": 4,
   "id": "66865ea0",
   "metadata": {},
   "outputs": [
    {
     "name": "stdout",
     "output_type": "stream",
     "text": [
      "Give me a number and I will calculate its square.abc\n",
      "Oh no! I cannot square abc!\n"
     ]
    }
   ],
   "source": [
    "try: \n",
    "    number = input(\"Give me a number and I will calculate its square.\")\n",
    "    square = int(number) ** 2\n",
    "    print(f'The square of {number} is {square}!')\n",
    "except: \n",
    "    print(f\"Oh no! I cannot square {number}!\")"
   ]
  },
  {
   "cell_type": "markdown",
   "id": "b4d5808e",
   "metadata": {},
   "source": [
    "## 2 Some loose ends"
   ]
  },
  {
   "cell_type": "markdown",
   "id": "70368ca3",
   "metadata": {},
   "source": [
    "### 2.1 Positional, keyword and default arguments"
   ]
  },
  {
   "cell_type": "code",
   "execution_count": 14,
   "id": "51d283a9",
   "metadata": {},
   "outputs": [],
   "source": [
    "def funny_add(a, b, c = 1):\n",
    "    return a + 10 * b + 100 * c"
   ]
  },
  {
   "cell_type": "code",
   "execution_count": 10,
   "id": "4def1ccc",
   "metadata": {},
   "outputs": [
    {
     "data": {
      "text/plain": [
       "321"
      ]
     },
     "execution_count": 10,
     "metadata": {},
     "output_type": "execute_result"
    }
   ],
   "source": [
    "funny_add(1, 2, 3)"
   ]
  },
  {
   "cell_type": "code",
   "execution_count": 12,
   "id": "3722cb6c",
   "metadata": {},
   "outputs": [
    {
     "data": {
      "text/plain": [
       "312"
      ]
     },
     "execution_count": 12,
     "metadata": {},
     "output_type": "execute_result"
    }
   ],
   "source": [
    "funny_add(c = 3, b = 1, a = 2)"
   ]
  },
  {
   "cell_type": "code",
   "execution_count": 15,
   "id": "65f7b3bd",
   "metadata": {},
   "outputs": [
    {
     "data": {
      "text/plain": [
       "121"
      ]
     },
     "execution_count": 15,
     "metadata": {},
     "output_type": "execute_result"
    }
   ],
   "source": [
    "funny_add(1, 2)"
   ]
  },
  {
   "cell_type": "code",
   "execution_count": 17,
   "id": "f2565c82",
   "metadata": {},
   "outputs": [
    {
     "data": {
      "text/plain": [
       "121"
      ]
     },
     "execution_count": 17,
     "metadata": {},
     "output_type": "execute_result"
    }
   ],
   "source": [
    "funny_add(a = 1, b = 2)"
   ]
  },
  {
   "cell_type": "code",
   "execution_count": 18,
   "id": "317c5c32",
   "metadata": {},
   "outputs": [
    {
     "data": {
      "text/plain": [
       "312"
      ]
     },
     "execution_count": 18,
     "metadata": {},
     "output_type": "execute_result"
    }
   ],
   "source": [
    "funny_add(c = 3, b = 1, a = 2)"
   ]
  },
  {
   "cell_type": "code",
   "execution_count": 19,
   "id": "544b45ba",
   "metadata": {},
   "outputs": [
    {
     "data": {
      "text/plain": [
       "321"
      ]
     },
     "execution_count": 19,
     "metadata": {},
     "output_type": "execute_result"
    }
   ],
   "source": [
    "funny_add(1, c = 3, b = 2)"
   ]
  },
  {
   "cell_type": "code",
   "execution_count": 20,
   "id": "88a06a5b",
   "metadata": {},
   "outputs": [
    {
     "data": {
      "text/plain": [
       "121"
      ]
     },
     "execution_count": 20,
     "metadata": {},
     "output_type": "execute_result"
    }
   ],
   "source": [
    "funny_add(1, b = 2)"
   ]
  },
  {
   "cell_type": "code",
   "execution_count": 21,
   "id": "e56e48c3",
   "metadata": {},
   "outputs": [
    {
     "ename": "SyntaxError",
     "evalue": "positional argument follows keyword argument (16213395.py, line 1)",
     "output_type": "error",
     "traceback": [
      "\u001b[1;36m  Cell \u001b[1;32mIn[21], line 1\u001b[1;36m\u001b[0m\n\u001b[1;33m    funny_add(a = 2, 1)\u001b[0m\n\u001b[1;37m                      ^\u001b[0m\n\u001b[1;31mSyntaxError\u001b[0m\u001b[1;31m:\u001b[0m positional argument follows keyword argument\n"
     ]
    }
   ],
   "source": [
    "funny_add(a = 2, 1)"
   ]
  },
  {
   "cell_type": "markdown",
   "id": "717a5eb2",
   "metadata": {},
   "source": [
    "### 2.2 Docstrings"
   ]
  },
  {
   "cell_type": "code",
   "execution_count": 22,
   "id": "12c91764",
   "metadata": {},
   "outputs": [],
   "source": [
    "def funny_add(a, b, c=1):\n",
    "    '''\n",
    "    \n",
    "    A test function to demonstrate how \n",
    "    positional, keyword and default arguments \n",
    "    work. \n",
    "    \n",
    "    '''\n",
    "    return a + 10 * b + 100 * c"
   ]
  },
  {
   "cell_type": "code",
   "execution_count": 23,
   "id": "0b6444cf",
   "metadata": {},
   "outputs": [
    {
     "name": "stdout",
     "output_type": "stream",
     "text": [
      "Help on function funny_add in module __main__:\n",
      "\n",
      "funny_add(a, b, c=1)\n",
      "    A test function to demonstrate how \n",
      "    positional, keyword and default arguments \n",
      "    work.\n",
      "\n"
     ]
    }
   ],
   "source": [
    "help(funny_add)"
   ]
  },
  {
   "cell_type": "markdown",
   "id": "5efeac0b",
   "metadata": {},
   "source": [
    "### 2.3 Function are first class citizens"
   ]
  },
  {
   "cell_type": "code",
   "execution_count": 25,
   "id": "ed7c24d9",
   "metadata": {},
   "outputs": [],
   "source": [
    "import numpy as np"
   ]
  },
  {
   "cell_type": "code",
   "execution_count": 26,
   "id": "48ca8897",
   "metadata": {},
   "outputs": [],
   "source": [
    "def my_function(angle, trig_function): \n",
    "    return trig_function(angle)"
   ]
  },
  {
   "cell_type": "code",
   "execution_count": 27,
   "id": "bbe65cf2",
   "metadata": {},
   "outputs": [
    {
     "data": {
      "text/plain": [
       "1.0"
      ]
     },
     "execution_count": 27,
     "metadata": {},
     "output_type": "execute_result"
    }
   ],
   "source": [
    "my_function(np.pi/2, np.sin)        #sin(pi/2)"
   ]
  },
  {
   "cell_type": "code",
   "execution_count": 28,
   "id": "b3544e96",
   "metadata": {},
   "outputs": [
    {
     "data": {
      "text/plain": [
       "6.123233995736766e-17"
      ]
     },
     "execution_count": 28,
     "metadata": {},
     "output_type": "execute_result"
    }
   ],
   "source": [
    "my_function(np.pi/2, np.cos)       #cos(pi/2)"
   ]
  },
  {
   "cell_type": "code",
   "execution_count": 29,
   "id": "540ecb4a",
   "metadata": {},
   "outputs": [
    {
     "data": {
      "text/plain": [
       "-1.0"
      ]
     },
     "execution_count": 29,
     "metadata": {},
     "output_type": "execute_result"
    }
   ],
   "source": [
    "my_function(np.pi/2, lambda x: np.cos(2*x))"
   ]
  },
  {
   "cell_type": "markdown",
   "id": "1e0cac29",
   "metadata": {},
   "source": [
    "### 2.4 More unpacking"
   ]
  },
  {
   "cell_type": "code",
   "execution_count": 30,
   "id": "18eb9dbe",
   "metadata": {},
   "outputs": [
    {
     "name": "stdout",
     "output_type": "stream",
     "text": [
      "1 2 3\n"
     ]
    }
   ],
   "source": [
    "x, y, z = [1, 2, 3]\n",
    "print(x, y, z)"
   ]
  },
  {
   "cell_type": "code",
   "execution_count": 32,
   "id": "088b141b",
   "metadata": {},
   "outputs": [
    {
     "name": "stdout",
     "output_type": "stream",
     "text": [
      "1 2 3\n"
     ]
    }
   ],
   "source": [
    "x, y, z = np.array([1, 2, 3])\n",
    "print(x, y, z)"
   ]
  },
  {
   "cell_type": "code",
   "execution_count": 34,
   "id": "04fc7ce9",
   "metadata": {},
   "outputs": [
    {
     "name": "stdout",
     "output_type": "stream",
     "text": [
      "1 [2, 3, 4] 5\n"
     ]
    }
   ],
   "source": [
    "x, *y, z = np.array([1, 2, 3, 4, 5])\n",
    "print(x, y, z)"
   ]
  },
  {
   "cell_type": "code",
   "execution_count": 38,
   "id": "5d08ae06",
   "metadata": {},
   "outputs": [
    {
     "name": "stdout",
     "output_type": "stream",
     "text": [
      "1 5\n",
      "2 3 4\n"
     ]
    }
   ],
   "source": [
    "x, *_, y = [1, 2, 3, 4, 5]\n",
    "print(x, y)\n",
    "print(*_)"
   ]
  },
  {
   "cell_type": "markdown",
   "id": "1bb29228",
   "metadata": {},
   "source": [
    "## Exercise 1 :  A better calculator I"
   ]
  },
  {
   "cell_type": "code",
   "execution_count": 113,
   "id": "0525b5e6",
   "metadata": {},
   "outputs": [],
   "source": [
    "x = np.array([36, 34, 44, 76, 27])\n",
    "y = np.array([64, 66, 56, 24, 73])"
   ]
  },
  {
   "cell_type": "code",
   "execution_count": 40,
   "id": "ae38fff5",
   "metadata": {},
   "outputs": [
    {
     "name": "stdout",
     "output_type": "stream",
     "text": [
      "[100 100 100 100 100]\n"
     ]
    }
   ],
   "source": [
    "def add(x, y):\n",
    "    z = x + y\n",
    "    return z\n",
    "print(add(x, y))"
   ]
  },
  {
   "cell_type": "code",
   "execution_count": 41,
   "id": "a770fc86",
   "metadata": {},
   "outputs": [
    {
     "name": "stdout",
     "output_type": "stream",
     "text": [
      "[-28 -32 -12  52 -46]\n"
     ]
    }
   ],
   "source": [
    "def subtract(x, y): \n",
    "    z = x - y\n",
    "    return z\n",
    "print(subtract(x, y))"
   ]
  },
  {
   "cell_type": "code",
   "execution_count": 42,
   "id": "756fd5d4",
   "metadata": {},
   "outputs": [
    {
     "name": "stdout",
     "output_type": "stream",
     "text": [
      "[2304 2244 2464 1824 1971]\n"
     ]
    }
   ],
   "source": [
    "def multiply(x, y): \n",
    "    z = x * y\n",
    "    return z\n",
    "print(multiply(x, y))"
   ]
  },
  {
   "cell_type": "code",
   "execution_count": 114,
   "id": "ea1884eb",
   "metadata": {},
   "outputs": [
    {
     "name": "stdout",
     "output_type": "stream",
     "text": [
      "[0.5625     0.51515152 0.78571429 3.16666667 0.36986301]\n"
     ]
    }
   ],
   "source": [
    "def divide(x, y): \n",
    "    assert np.all(y != 0), \"Cannot be divided by zero!\"\n",
    "    return x / y\n",
    "print(divide(x, y))"
   ]
  },
  {
   "cell_type": "markdown",
   "id": "c1f8374c",
   "metadata": {},
   "source": [
    "## Exercise 2 :  A better calculator II"
   ]
  },
  {
   "cell_type": "code",
   "execution_count": 135,
   "id": "a20708b8",
   "metadata": {},
   "outputs": [
    {
     "data": {
      "text/plain": [
       "{'divide': 'warn', 'over': 'warn', 'under': 'ignore', 'invalid': 'warn'}"
      ]
     },
     "execution_count": 135,
     "metadata": {},
     "output_type": "execute_result"
    }
   ],
   "source": [
    "np.seterr(all='raise')    #to prevent numpy from returning infinity when divided by zero"
   ]
  },
  {
   "cell_type": "code",
   "execution_count": 143,
   "id": "702a513b",
   "metadata": {},
   "outputs": [],
   "source": [
    "x = np.array([36, 34, 44, 76, 27])\n",
    "y = np.array([64, 66, 56, 24, 73])"
   ]
  },
  {
   "cell_type": "code",
   "execution_count": 89,
   "id": "952465cb",
   "metadata": {},
   "outputs": [
    {
     "name": "stdout",
     "output_type": "stream",
     "text": [
      "[100 100 100 100 100]\n"
     ]
    }
   ],
   "source": [
    "def add(x, y):\n",
    "    z = x + y\n",
    "    return z\n",
    "print(add(x, y))"
   ]
  },
  {
   "cell_type": "code",
   "execution_count": 90,
   "id": "8819fc91",
   "metadata": {},
   "outputs": [
    {
     "name": "stdout",
     "output_type": "stream",
     "text": [
      "[-28 -32 -12  52 -46]\n"
     ]
    }
   ],
   "source": [
    "def subtract(x, y): \n",
    "    z = x - y\n",
    "    return z\n",
    "print(subtract(x, y))"
   ]
  },
  {
   "cell_type": "code",
   "execution_count": 146,
   "id": "4806dbf7",
   "metadata": {},
   "outputs": [
    {
     "name": "stdout",
     "output_type": "stream",
     "text": [
      "[2304 2244 2464 1824 1971]\n"
     ]
    }
   ],
   "source": [
    "def multiply(x, y): \n",
    "    z = x * y\n",
    "    return z\n",
    "print(multiply(x, y))"
   ]
  },
  {
   "cell_type": "code",
   "execution_count": 144,
   "id": "454c8ce7",
   "metadata": {},
   "outputs": [
    {
     "data": {
      "text/plain": [
       "array([0.5625    , 0.51515152, 0.78571429, 3.16666667, 0.36986301])"
      ]
     },
     "execution_count": 144,
     "metadata": {},
     "output_type": "execute_result"
    }
   ],
   "source": [
    "def divide(x, y): \n",
    "    try: \n",
    "        return x / y\n",
    "    except ZeroDivisionError:\n",
    "        print(\"Cannot be divided by zero!\")\n",
    "    except FloatingPointError:\n",
    "        print(\"Cannot be divided by zero!\")\n",
    "divide(x, y)"
   ]
  },
  {
   "cell_type": "code",
   "execution_count": 148,
   "id": "32ed2cf8",
   "metadata": {},
   "outputs": [
    {
     "name": "stdout",
     "output_type": "stream",
     "text": [
      "Cannot be divided by zero!\n"
     ]
    }
   ],
   "source": [
    "z = np.array([0, 1, 2, 3, 4])    #just testing for fun. \n",
    "divide(x, z)"
   ]
  }
 ],
 "metadata": {
  "kernelspec": {
   "display_name": "Python 3 (ipykernel)",
   "language": "python",
   "name": "python3"
  },
  "language_info": {
   "codemirror_mode": {
    "name": "ipython",
    "version": 3
   },
   "file_extension": ".py",
   "mimetype": "text/x-python",
   "name": "python",
   "nbconvert_exporter": "python",
   "pygments_lexer": "ipython3",
   "version": "3.10.8"
  },
  "toc": {
   "base_numbering": 1,
   "nav_menu": {},
   "number_sections": true,
   "sideBar": true,
   "skip_h1_title": false,
   "title_cell": "Table of Contents",
   "title_sidebar": "Contents",
   "toc_cell": false,
   "toc_position": {},
   "toc_section_display": true,
   "toc_window_display": false
  },
  "vscode": {
   "interpreter": {
    "hash": "31f2aee4e71d21fbe5cf8b01ff0e069b9275f58929596ceb00d14d90e3e16cd6"
   }
  }
 },
 "nbformat": 4,
 "nbformat_minor": 5
}

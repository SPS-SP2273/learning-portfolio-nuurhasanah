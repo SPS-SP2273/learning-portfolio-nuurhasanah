{
 "cells": [
  {
   "cell_type": "code",
   "execution_count": 2,
   "id": "c72d5bad",
   "metadata": {},
   "outputs": [
    {
     "name": "stdout",
     "output_type": "stream",
     "text": [
      "6\n"
     ]
    }
   ],
   "source": [
    "a = 4\n",
    "b = 2\n",
    "c= a + b\n",
    "print (c)"
   ]
  },
  {
   "cell_type": "code",
   "execution_count": 3,
   "id": "a988e37c",
   "metadata": {},
   "outputs": [
    {
     "name": "stdout",
     "output_type": "stream",
     "text": [
      "Hello World!\n"
     ]
    }
   ],
   "source": [
    "print('Hello World!')"
   ]
  },
  {
   "cell_type": "code",
   "execution_count": 24,
   "id": "5f54309e",
   "metadata": {},
   "outputs": [
    {
     "name": "stdout",
     "output_type": "stream",
     "text": [
      "The ships hung in the sky in much the same way that bricks don’t.\n"
     ]
    }
   ],
   "source": [
    "print('The ships hung in the sky in much the same way that bricks don’t.')"
   ]
  },
  {
   "cell_type": "markdown",
   "id": "d24c3611",
   "metadata": {},
   "source": [
    "The ships *hung in the sky* in much the same way that **bricks don’t.**<sup>1</sup><sub>QUOTE</sub>"
   ]
  },
  {
   "cell_type": "markdown",
   "id": "da3e0c8a",
   "metadata": {},
   "source": [
    "# The largest heading \n",
    "## The second-largest heading \n",
    "### The third-largest heading\n",
    "###### The smallest heading"
   ]
  },
  {
   "cell_type": "markdown",
   "id": "0bba70f4",
   "metadata": {},
   "source": [
    "HI\n",
    "```python\n",
    "print('Hello World!')\n",
    "```"
   ]
  },
  {
   "cell_type": "markdown",
   "id": "9cf30314",
   "metadata": {},
   "source": [
    "[SP2273 Website](https://sps.nus.edu.sg/sp2273)"
   ]
  },
  {
   "cell_type": "markdown",
   "id": "a5ce52d5",
   "metadata": {},
   "source": [
    "![](https://nus.edu.sg/images/default-source/base/logo.png)"
   ]
  },
  {
   "cell_type": "markdown",
   "id": "76de9424",
   "metadata": {},
   "source": [
    "| A    |  B   |    C |\n",
    "| :--- | :--: | ---: |\n",
    "| a1   |  b1  |   c1 |\n",
    "| a2   |  b2  |   c2 |\n",
    "| a3   |  b3  |   c3 |"
   ]
  },
  {
   "cell_type": "markdown",
   "id": "e7e6a5d0",
   "metadata": {},
   "source": [
    "1. Master Yoda \n",
    "1. Luke Skywalker \n",
    "1. Anakin Skywalker"
   ]
  },
  {
   "cell_type": "markdown",
   "id": "b3c7b205",
   "metadata": {},
   "source": [
    "- Master Yoda \n",
    "- Luke Skywalker\n",
    "- Anakin Skywalker "
   ]
  },
  {
   "cell_type": "markdown",
   "id": "e1c30eb1",
   "metadata": {},
   "source": [
    "1. Master Yoda \n",
    " 1. Was a Jedi\n",
    " 1. Was a bit green\n",
    "1. Luke Skywalker \n",
    " 1. Was a Jedi\n",
    " 1. Is Anakin's son. \n",
    "1. Anakin Skywalker \n",
    " 1. Was a Jedi then became a baddie \n",
    " 1. Is famous for saying 'Luke, I am your father'"
   ]
  },
  {
   "cell_type": "markdown",
   "id": "40987764",
   "metadata": {},
   "source": [
    "1. Master Yoda \n",
    " - Was a Jedi\n",
    " - Was a bit green\n",
    "1. Luke Skywalker \n",
    " - Was a Jedi\n",
    " - Is Anakin's son. \n",
    "1. Anakin Skywalker \n",
    " - Was a Jedi then became a baddie \n",
    " - Is famous for saying 'Luke, I am your father'"
   ]
  },
  {
   "cell_type": "markdown",
   "id": "30e90cd6",
   "metadata": {},
   "source": [
    "$\\sqrt{b^2-4ac}$"
   ]
  },
  {
   "cell_type": "markdown",
   "id": "a9799f64",
   "metadata": {},
   "source": [
    "$$\n",
    "x = \\dfrac{-b \\pm \\sqrt{b^2-4ac}}{2a}\n",
    "$$"
   ]
  },
  {
   "cell_type": "markdown",
   "id": "1a900598",
   "metadata": {},
   "source": [
    "**Quadratic Equations**\n",
    "![](https://upload.wikimedia.org/wikipedia/commons/thumb/f/f8/Polynomialdeg2.svg/300px-Polynomialdeg2.svg.png)\n",
    "\n",
    "*(Image from the [Wikipedia page on Quadratic equations](https://en.wikipedia.org/wiki/Quadratic_equation)*\n",
    "\n",
    "**Introduction**\n",
    "\n",
    "The general form of a quadratic equation is: \n",
    "\n",
    "$$ax^2+bx+c=0$$\n",
    "\n",
    "**Solutions** Provided $a \\ne 0$, we can use an elementary algebraic method called [completing the square](https://en.wikipedia.org/wiki/Completing_the_square) to show that a quadratic equation has the following solution: \n",
    "\n",
    "$$\n",
    "x = \\dfrac{-b \\pm \\sqrt{b^2-4ac}}{2a}\n",
    "$$\n",
    "\n",
    "**Discriminant**\n",
    "\n",
    "The quantity $\\Delta = b^2 - 4ac$ is called the **discriminant** of the equation and decides the nature of its solutions. The table below shows the various possibilities. \n",
    "\n",
    "| **Discriminant**          | **Roots**                          |\n",
    "|  :---                     |  :---                              |\n",
    "| $$\\Delta = b^2 - 4ac = 0$$  | A single solution of $-b/(2a)$     |\n",
    "| $\\Delta = b^2 - 4ac \\gt 0$| Two distinct solutions             |\n",
    "| $\\Delta = b^2 - 4ac \\lt 0$| No real solutions; both are complex.|\n"
   ]
  },
  {
   "cell_type": "markdown",
   "id": "bcb6bbb5",
   "metadata": {},
   "source": [
    "1. What is a **repository**?\n",
    "    1. A folder on the GitHub server created to hold your Learning Portfolio\n",
    "1. Git keep tracks of ``changes`` in the files in our repository. \n",
    "1. What is a **commit**? \n",
    "    1. In a commit, specify what file changes you want to be recorded and attach a brief description of the changes. This will make it easy for you to see the evolution of your repository.\n",
    "1. What is a **push**? \n",
    "    1. The commits you make are initially only locally recorded on your device and not in the cloud. Therefore, to share your changes with GitHub (and anyone else sharing the repository), you need to push these changes to the server (usually called origin).\n",
    "1. What is the difference between **Github** and **Github Desktop**? \n",
    "    1. Github is a cloud-based hosting platform that enables developers to manage their Git repositories while Github Desktop is an application that lets users interact better with Github through a GUI. \n",
    "1. Is there an 'opposite' to a **push**? \n",
    "    1. Pull"
   ]
  },
  {
   "cell_type": "code",
   "execution_count": null,
   "id": "829c8345",
   "metadata": {},
   "outputs": [],
   "source": []
  }
 ],
 "metadata": {
  "kernelspec": {
   "display_name": "Python 3 (ipykernel)",
   "language": "python",
   "name": "python3"
  },
  "language_info": {
   "codemirror_mode": {
    "name": "ipython",
    "version": 3
   },
   "file_extension": ".py",
   "mimetype": "text/x-python",
   "name": "python",
   "nbconvert_exporter": "python",
   "pygments_lexer": "ipython3",
   "version": "3.10.8"
  }
 },
 "nbformat": 4,
 "nbformat_minor": 5
}

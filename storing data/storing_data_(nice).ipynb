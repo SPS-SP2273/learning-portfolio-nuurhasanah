{
 "cells": [
  {
   "cell_type": "markdown",
   "id": "123456",
   "metadata": {},
   "source": [
    "<div style=\"text-align:left;font-size:2em\"><span style=\"font-weight:bolder;font-size:1.25em\">SP2273 | Learning Portfolio</span><br><br><span style=\"font-weight:bold;color:darkred\">Storing Data (Nice)</span></div>"
   ]
  },
  {
   "cell_type": "markdown",
   "id": "9187a62e",
   "metadata": {},
   "source": [
    "## 1 Classes"
   ]
  },
  {
   "cell_type": "markdown",
   "id": "17f51569",
   "metadata": {},
   "source": [
    "### 1.1 A grave injustice"
   ]
  },
  {
   "cell_type": "code",
   "execution_count": null,
   "id": "65139e90",
   "metadata": {},
   "outputs": [],
   "source": [
    "\n",
    "# Your code here\n"
   ]
  },
  {
   "cell_type": "markdown",
   "id": "0bad1f6b",
   "metadata": {},
   "source": [
    "### 1.2 A particle class"
   ]
  },
  {
   "cell_type": "code",
   "execution_count": 1,
   "id": "7bf65cd1",
   "metadata": {},
   "outputs": [],
   "source": [
    "class Particle1D: \n",
    "    mass = None\n",
    "    position = None \n",
    "    radius = None "
   ]
  },
  {
   "cell_type": "code",
   "execution_count": 3,
   "id": "7989f764",
   "metadata": {},
   "outputs": [],
   "source": [
    "particle_0 = Particle1D()        \n",
    "particle_0.mass = 10\n",
    "particle_0.position = 0.5\n",
    "particle_0.radius = 0.01"
   ]
  },
  {
   "cell_type": "code",
   "execution_count": 4,
   "id": "d90abfd3",
   "metadata": {},
   "outputs": [],
   "source": [
    "particle_1 = Particle1D()        \n",
    "particle_1.mass = 20\n",
    "particle_1.position = 0.1\n",
    "particle_1.radius = 0.01"
   ]
  },
  {
   "cell_type": "code",
   "execution_count": 5,
   "id": "ec23df6e",
   "metadata": {},
   "outputs": [
    {
     "name": "stdout",
     "output_type": "stream",
     "text": [
      "Particle 0 has mass 10 and is at position 0.5.\n"
     ]
    }
   ],
   "source": [
    "print(f'Particle 0 has mass {particle_0.mass} and is at position {particle_0.position}.')"
   ]
  },
  {
   "cell_type": "code",
   "execution_count": 6,
   "id": "cc414443",
   "metadata": {},
   "outputs": [
    {
     "name": "stdout",
     "output_type": "stream",
     "text": [
      "Particle 1 has mass 20 and is at position 0.1.\n"
     ]
    }
   ],
   "source": [
    "print(f'Particle 1 has mass {particle_1.mass} and is at position {particle_1.position}.')"
   ]
  },
  {
   "cell_type": "markdown",
   "id": "de815393",
   "metadata": {},
   "source": [
    "### 1.3 Class vs Object variables"
   ]
  },
  {
   "cell_type": "code",
   "execution_count": 7,
   "id": "5b64b3e5",
   "metadata": {},
   "outputs": [],
   "source": [
    "Particle1D.mass = 99\n",
    "Particle1D.radius = 0.01\n",
    "\n",
    "particle_0 = Particle1D()\n",
    "particle_0.position = 0.5\n",
    "\n",
    "particle_1 = Particle1D()\n",
    "particle_1.position = 0.1"
   ]
  },
  {
   "cell_type": "code",
   "execution_count": 8,
   "id": "d6468c27",
   "metadata": {},
   "outputs": [
    {
     "name": "stdout",
     "output_type": "stream",
     "text": [
      "Particle 0 has mass 99 and is at position 0.5.\n"
     ]
    }
   ],
   "source": [
    "print(f'Particle 0 has mass {particle_0.mass} and is at position {particle_0.position}.')"
   ]
  },
  {
   "cell_type": "code",
   "execution_count": 9,
   "id": "1cc2b36c",
   "metadata": {},
   "outputs": [
    {
     "name": "stdout",
     "output_type": "stream",
     "text": [
      "Particle 1 has mass 99 and is at position 0.1.\n"
     ]
    }
   ],
   "source": [
    "print(f'Particle 1 has mass {particle_1.mass} and is at position {particle_1.position}.')"
   ]
  },
  {
   "cell_type": "markdown",
   "id": "857ec785",
   "metadata": {},
   "source": [
    "### 1.4 Making it more scalable"
   ]
  },
  {
   "cell_type": "code",
   "execution_count": 11,
   "id": "c8c3b0a4",
   "metadata": {},
   "outputs": [],
   "source": [
    "import numpy as np\n",
    "\n",
    "Particle1D.mass = 99\n",
    "Particle1D.radius = 0.01\n",
    "\n",
    "all_particles = [Particle1D()]\n",
    "all_particles += [Particle1D()]\n",
    "all_particles += [Particle1D()]\n",
    "\n",
    "i = 0\n",
    "all_particles[i].position=np.random.rand()\n",
    "\n",
    "i += 1\n",
    "all_particles[i].position=np.random.rand()\n",
    "\n",
    "i += 1\n",
    "all_particles[i].position=np.random.rand()"
   ]
  },
  {
   "cell_type": "code",
   "execution_count": 12,
   "id": "ccbc967a",
   "metadata": {},
   "outputs": [
    {
     "name": "stdout",
     "output_type": "stream",
     "text": [
      "Particle 0 has mass 99 and is at position 0.45808893538604.\n"
     ]
    }
   ],
   "source": [
    "i = 0\n",
    "print(f'Particle {i} has mass {all_particles[i].mass} and is at position {all_particles[i].position}.')"
   ]
  },
  {
   "cell_type": "code",
   "execution_count": 13,
   "id": "8f05b467",
   "metadata": {},
   "outputs": [
    {
     "name": "stdout",
     "output_type": "stream",
     "text": [
      "Particle 1 has mass 99 and is at position 0.6602639706032721.\n"
     ]
    }
   ],
   "source": [
    "i += 1\n",
    "print(f'Particle {i} has mass {all_particles[i].mass} and is at position {all_particles[i].position}.')"
   ]
  },
  {
   "cell_type": "code",
   "execution_count": 14,
   "id": "49eaf8fb",
   "metadata": {},
   "outputs": [
    {
     "name": "stdout",
     "output_type": "stream",
     "text": [
      "Particle 2 has mass 99 and is at position 0.6257439345159701.\n"
     ]
    }
   ],
   "source": [
    "i += 1\n",
    "print(f'Particle {i} has mass {all_particles[i].mass} and is at position {all_particles[i].position}.')"
   ]
  }
 ],
 "metadata": {
  "kernelspec": {
   "display_name": "Python 3 (ipykernel)",
   "language": "python",
   "name": "python3"
  },
  "language_info": {
   "codemirror_mode": {
    "name": "ipython",
    "version": 3
   },
   "file_extension": ".py",
   "mimetype": "text/x-python",
   "name": "python",
   "nbconvert_exporter": "python",
   "pygments_lexer": "ipython3",
   "version": "3.10.8"
  },
  "toc": {
   "base_numbering": 1,
   "nav_menu": {},
   "number_sections": true,
   "sideBar": true,
   "skip_h1_title": false,
   "title_cell": "Table of Contents",
   "title_sidebar": "Contents",
   "toc_cell": false,
   "toc_position": {},
   "toc_section_display": true,
   "toc_window_display": false
  },
  "vscode": {
   "interpreter": {
    "hash": "31f2aee4e71d21fbe5cf8b01ff0e069b9275f58929596ceb00d14d90e3e16cd6"
   }
  }
 },
 "nbformat": 4,
 "nbformat_minor": 5
}
